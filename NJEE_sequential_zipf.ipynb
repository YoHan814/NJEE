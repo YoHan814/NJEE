{
 "cells": [
  {
   "cell_type": "code",
   "execution_count": 1,
   "metadata": {
    "executionInfo": {
     "elapsed": 2716,
     "status": "ok",
     "timestamp": 1686894731450,
     "user": {
      "displayName": "­노요한 / 학생 / 통계학과",
      "userId": "02288804916744013521"
     },
     "user_tz": -540
    },
    "id": "amXbDeCe1e4N"
   },
   "outputs": [],
   "source": [
    "import numpy as np\n",
    "import pandas as pd\n",
    "import matplotlib.pyplot as plt\n",
    "import scipy.stats as stats\n",
    "from scipy.stats import multinomial, geom, boltzmann, dlaplace\n",
    "from scipy.stats import poisson\n",
    "import os\n",
    "import torch\n",
    "import torch.nn as nn\n",
    "from torch.utils.data import Dataset, DataLoader\n",
    "import torch.utils.data as data\n",
    "import torch.optim as optim"
   ]
  },
  {
   "cell_type": "code",
   "execution_count": 2,
   "metadata": {
    "executionInfo": {
     "elapsed": 13,
     "status": "ok",
     "timestamp": 1686894731451,
     "user": {
      "displayName": "­노요한 / 학생 / 통계학과",
      "userId": "02288804916744013521"
     },
     "user_tz": -540
    },
    "id": "ZkeMa14B1hPD"
   },
   "outputs": [],
   "source": [
    "def zipf_dist(alpha, N, size):\n",
    "    x = np.arange(1, N+1, dtype='float')\n",
    "    weights = x ** (-alpha)\n",
    "    weights /= weights.sum()\n",
    "    bounded_zipf = stats.rv_discrete(name='bounded_zipf', values=(x, weights))\n",
    "    data = np.reshape(np.array(bounded_zipf.rvs(size=size)), [-1, 1])\n",
    "    return data, weights"
   ]
  },
  {
   "cell_type": "code",
   "execution_count": 3,
   "metadata": {
    "executionInfo": {
     "elapsed": 11,
     "status": "ok",
     "timestamp": 1686894731451,
     "user": {
      "displayName": "­노요한 / 학생 / 통계학과",
      "userId": "02288804916744013521"
     },
     "user_tz": -540
    },
    "id": "EHWc-GmP1hef"
   },
   "outputs": [],
   "source": [
    "def harmonic(n, alpha):\n",
    "    a = 0\n",
    "    for i in range(1, n):\n",
    "        a += 1/i**alpha\n",
    "    return a"
   ]
  },
  {
   "cell_type": "code",
   "execution_count": 4,
   "metadata": {
    "executionInfo": {
     "elapsed": 11,
     "status": "ok",
     "timestamp": 1686894731452,
     "user": {
      "displayName": "­노요한 / 학생 / 통계학과",
      "userId": "02288804916744013521"
     },
     "user_tz": -540
    },
    "id": "P2Y3JrCz1hiB"
   },
   "outputs": [],
   "source": [
    "def zipf_entropy(alphabet, alpha):\n",
    "    p = np.arange(1, alphabet, dtype='float')**(-alpha)\n",
    "    c = harmonic(alphabet, alpha)\n",
    "    H_zipf = -(1/c)*np.sum(p*np.log(p/c))\n",
    "    return H_zipf"
   ]
  },
  {
   "cell_type": "code",
   "execution_count": 5,
   "metadata": {
    "executionInfo": {
     "elapsed": 10,
     "status": "ok",
     "timestamp": 1686894731453,
     "user": {
      "displayName": "­노요한 / 학생 / 통계학과",
      "userId": "02288804916744013521"
     },
     "user_tz": -540
    },
    "id": "rENPRHIi1rxx"
   },
   "outputs": [],
   "source": [
    "# Other utils\n",
    "def convert_to_one_hot(y, dict_size=None):\n",
    "    if dict_size is None:\n",
    "        dict_size = np.unique(y).shape[0]\n",
    "    y_hot = np.eye(dict_size)[y.astype('int32')]\n",
    "    return y_hot\n",
    "\n",
    "def make_one_hot(y, dims, dict_size=None):\n",
    "    y_hot = []\n",
    "    for i in range(dims):\n",
    "        y_hot.append(convert_to_one_hot(y[:, i], dict_size))\n",
    "    return y_hot\n",
    "\n",
    "def make_rnn_data(time_series, sequence_length):\n",
    "    seq_lst = []\n",
    "    time_series = np.array(time_series)\n",
    "    for i in range((len(time_series)-sequence_length+1)):\n",
    "        seq_lst.append(time_series[i:(i+sequence_length), :])\n",
    "    return np.array(seq_lst)"
   ]
  },
  {
   "cell_type": "code",
   "execution_count": 6,
   "metadata": {
    "executionInfo": {
     "elapsed": 11,
     "status": "ok",
     "timestamp": 1686894731454,
     "user": {
      "displayName": "­노요한 / 학생 / 통계학과",
      "userId": "02288804916744013521"
     },
     "user_tz": -540
    },
    "id": "pfXAoWFO1r07"
   },
   "outputs": [],
   "source": [
    "class ModelBasicClassification(nn.Module):\n",
    "    def __init__(self, input_shape, class_size):\n",
    "        super(ModelBasicClassification, self).__init__()\n",
    "        self.lstm = nn.LSTM(input_size=input_shape[1], hidden_size=50, batch_first=True)\n",
    "        self.fc = nn.Linear(50, class_size)\n",
    "\n",
    "    def forward(self, x):\n",
    "        x, _ = self.lstm(x)\n",
    "        x = self.fc(x)\n",
    "        return x"
   ]
  },
  {
   "cell_type": "code",
   "execution_count": 7,
   "metadata": {
    "executionInfo": {
     "elapsed": 473,
     "status": "ok",
     "timestamp": 1686894731917,
     "user": {
      "displayName": "­노요한 / 학생 / 통계학과",
      "userId": "02288804916744013521"
     },
     "user_tz": -540
    },
    "id": "PHSCUR9F1r36"
   },
   "outputs": [],
   "source": [
    "# Generate data from zipf\n",
    "alpha = 1\n",
    "alphabet = 10**5\n",
    "size = 1000\n",
    "p = 1/alphabet\n",
    "data, _ = zipf_dist(alpha, alphabet, size)\n",
    "H_true = zipf_entropy(alphabet, alpha)\n",
    "\n",
    "# Convert symbols to binary representation\n",
    "dims = 25 # size of the binary representation, chosen by the dectated by the alphabet size\n",
    "vf = np.vectorize(np.binary_repr)\n",
    "data=data.astype(np.int64)\n",
    "data = vf(data, width=dims)\n",
    "lst = []\n",
    "for i in data:\n",
    "    lst.append([int(j) for j in i[0]])\n",
    "data = np.array(lst)\n",
    "\n",
    "# Prepare RNN input and output\n",
    "data_shift = np.hstack([data[:, 1:], np.zeros(shape=(len(data), 1))])\n",
    "data = np.expand_dims(data, axis=2)\n",
    "seq_lst = []\n",
    "for i in data_shift:\n",
    "    y = np.reshape(i, (-1, 1))\n",
    "    seq_lst.append(make_one_hot(y, 1, 2))\n",
    "data_shift = np.array(seq_lst)\n",
    "data_shift = np.squeeze(data_shift, axis=1)"
   ]
  },
  {
   "cell_type": "code",
   "execution_count": 8,
   "metadata": {
    "colab": {
     "base_uri": "https://localhost:8080/"
    },
    "executionInfo": {
     "elapsed": 298196,
     "status": "ok",
     "timestamp": 1686895030111,
     "user": {
      "displayName": "­노요한 / 학생 / 통계학과",
      "userId": "02288804916744013521"
     },
     "user_tz": -540
    },
    "id": "-Vjhiv191r7I",
    "outputId": "e564a227-f48e-43ea-b263-19e87c0c14af"
   },
   "outputs": [],
   "source": [
    "seq_length = 25\n",
    "epochs = 2000\n",
    "batch_size = 64\n",
    "bins = 2\n",
    "\n",
    "data = torch.from_numpy(data).float()\n",
    "data_shift = torch.from_numpy(data_shift).long()\n",
    "\n",
    "model = ModelBasicClassification([seq_length, 1], 2)\n",
    "opt = optim.Adam(model.parameters())\n",
    "criterion = nn.CrossEntropyLoss()\n",
    "\n",
    "for epoch in range(epochs):\n",
    "    opt.zero_grad()\n",
    "    output = model(data)\n",
    "    loss = criterion(output.view(-1, 2), torch.argmax(data_shift.view(-1, 2), dim=1))\n",
    "    loss.backward()\n",
    "    opt.step()\n",
    "\n",
    "output = model(data)\n",
    "# CE = output.gather(2, data_shift.view(-1,1)).squeeze(2)\n",
    "# CE=output.gather(1, data_shift.view(-1)).squeeze(1)\n",
    "\n",
    "# CE = -torch.log(CE.max(dim=1)[0]).sum(dim=0).mean().item()\n",
    "CE = output*data_shift\n",
    "CE = (-torch.log(torch.sigmoid(CE.sum(dim=2)))).sum(dim=1).mean().item()\n",
    "#print(CE)\n",
    "\n",
    "y = data[:, 0]\n",
    "p_1 = (y.sum().item() + 1e-5) / float(size)\n",
    "H_1 = -torch.sum(torch.tensor([p_1, 1-p_1]) * torch.log(torch.tensor([p_1, 1-p_1])))\n",
    "CE = CE + H_1.item()\n",
    "#print(CE)"
   ]
  },
  {
   "cell_type": "code",
   "execution_count": 9,
   "metadata": {
    "colab": {
     "base_uri": "https://localhost:8080/"
    },
    "executionInfo": {
     "elapsed": 14,
     "status": "ok",
     "timestamp": 1686895030112,
     "user": {
      "displayName": "­노요한 / 학생 / 통계학과",
      "userId": "02288804916744013521"
     },
     "user_tz": -540
    },
    "id": "Txk5wCsJ1r-Z",
    "outputId": "7c23357d-d8e0-4e2a-e7a8-fa00478ad63f"
   },
   "outputs": [
    {
     "name": "stdout",
     "output_type": "stream",
     "text": [
      "H estimated 8.115833466677515\n",
      "H true 7.967998491428407\n"
     ]
    }
   ],
   "source": [
    "print('H estimated', CE)\n",
    "print('H true', H_true)"
   ]
  }
 ],
 "metadata": {
  "colab": {
   "authorship_tag": "ABX9TyPfzxy5WZclMskc4dZ8vWNu",
   "provenance": []
  },
  "kernelspec": {
   "display_name": "Python 3 (ipykernel)",
   "language": "python",
   "name": "python3"
  },
  "language_info": {
   "codemirror_mode": {
    "name": "ipython",
    "version": 3
   },
   "file_extension": ".py",
   "mimetype": "text/x-python",
   "name": "python",
   "nbconvert_exporter": "python",
   "pygments_lexer": "ipython3",
   "version": "3.10.10"
  }
 },
 "nbformat": 4,
 "nbformat_minor": 4
}
