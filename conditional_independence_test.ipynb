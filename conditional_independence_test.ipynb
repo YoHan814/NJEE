{
 "cells": [
  {
   "cell_type": "code",
   "execution_count": 1,
   "metadata": {
    "id": "k-m0gNZGSk7U"
   },
   "outputs": [],
   "source": [
    "import torch\n",
    "import torch.nn as nn\n",
    "import torch.optim as optim\n",
    "import numpy as np\n",
    "import pandas as pd\n",
    "import matplotlib.pyplot as plt\n",
    "from tqdm import tqdm_notebook as tqdm\n",
    "import xlrd\n",
    "from sklearn.metrics import auc, roc_curve\n",
    "import os\n",
    "from os import listdir"
   ]
  },
  {
   "cell_type": "code",
   "execution_count": 2,
   "metadata": {
    "id": "mIcNZH5lSvVw"
   },
   "outputs": [],
   "source": [
    "# convert class to one hot\n",
    "def convert_to_one_hot(y):\n",
    "    dict_size = np.unique(y).shape[0]\n",
    "    y_hot = np.eye(dict_size)[y.astype('int32')]\n",
    "    return y_hot\n",
    "\n",
    "def make_one_hot(y, dims):\n",
    "    y_hot = []\n",
    "    for i in range(dims):\n",
    "        y_hot.append(convert_to_one_hot(y[:, i]))\n",
    "    return y_hot"
   ]
  },
  {
   "cell_type": "code",
   "execution_count": 3,
   "metadata": {
    "id": "3cT84dmmSvZF"
   },
   "outputs": [],
   "source": [
    "# descretize to equa-probability bins\n",
    "def discretize(data, bins):\n",
    "    split = np.array_split(np.sort(data), bins)\n",
    "    cutoffs = [x[-1] for x in split]\n",
    "    cutoffs = cutoffs[:-1]\n",
    "    discrete = np.digitize(data, cutoffs, right=True)\n",
    "    return discrete, cutoffs\n",
    "\n",
    "def discretize_batch(data, bins, batch_size):\n",
    "    z_disc = np.zeros((data.shape[0], data.shape[1]))\n",
    "    for d in range(data.shape[1]):\n",
    "        z_disc[:, d], _ = discretize(data[:, d], bins)\n",
    "    return z_disc"
   ]
  },
  {
   "cell_type": "code",
   "execution_count": 4,
   "metadata": {
    "id": "HfdefNw2SvcT"
   },
   "outputs": [],
   "source": [
    "# calculating KL divergence - for estimating the difference in the softmax layer distribution between m P (equal frequncy distribution)\n",
    "# and G, the NN model\n",
    "def kl(d1,d2):\n",
    "    kl = 0\n",
    "    for i in range(len(d1)):\n",
    "        kl += d1[i]*np.log((d1[i])/(d2[i]))\n",
    "    return kl\n",
    "\n",
    "def kl_calc_one_dim(pred1, pred2):\n",
    "    kl_lst = []\n",
    "    pred1 = np.clip(pred1, a_min = 1e-5, a_max = None)\n",
    "    pred2 = np.clip(pred2, a_min = 1e-5, a_max = None)\n",
    "    kl_lst.append(kl(pred1, pred2))\n",
    "    return kl_lst"
   ]
  },
  {
   "cell_type": "code",
   "execution_count": 5,
   "metadata": {
    "id": "GwvPmWZrSvfb"
   },
   "outputs": [],
   "source": [
    "# we find the connections bewteen nodes so later we can generate ci and non-ci triplets\n",
    "def find_parents(data, index):\n",
    "    v = np.arange(len(data))\n",
    "    parents = v[data[:, index] > 0]\n",
    "    return parents\n",
    "\n",
    "def find_children(data, index):\n",
    "    v = np.arange(len(data))\n",
    "    children = v[data[index, :] > 0]\n",
    "    return children\n",
    "\n",
    "def find_blanket(data, index):\n",
    "    parents = find_parents(data, index)\n",
    "    children = find_children(data, index)\n",
    "    children_parents = []\n",
    "    for c in children:\n",
    "         children_parents.append(find_parents(data, c))\n",
    "    children_parents = np.hstack(children_parents)\n",
    "    blanket = np.unique(np.hstack([parents, children, children_parents]))\n",
    "    return blanket[blanket !=  index]\n",
    "\n",
    "def generate_sample(blanket, num_of_feat, ci, output_size, index):\n",
    "    a = np.arange(num_of_feat)\n",
    "    a = a[a != index]\n",
    "    a = pd.DataFrame(a)\n",
    "    if ci:\n",
    "        return np.unique(np.random.choice(a[~a[0].isin(blanket)][0], output_size))\n",
    "    else:\n",
    "        return np.unique(np.random.choice(a[a[0].isin(blanket)][0], output_size))"
   ]
  },
  {
   "cell_type": "code",
   "execution_count": 6,
   "metadata": {
    "colab": {
     "base_uri": "https://localhost:8080/"
    },
    "executionInfo": {
     "elapsed": 2372,
     "status": "ok",
     "timestamp": 1687502731461,
     "user": {
      "displayName": "­노요한 / 학생 / 통계학과",
      "userId": "02288804916744013521"
     },
     "user_tz": -540
    },
    "id": "JoOYgsF-tn5x",
    "outputId": "ca7846da-4822-4dbe-bd0b-b95468ebcce4"
   },
   "outputs": [],
   "source": [
    "# from google.colab import drive\n",
    "# drive.mount('/content/drive/')"
   ]
  },
  {
   "cell_type": "code",
   "execution_count": 7,
   "metadata": {
    "id": "MktG0GnSSvii"
   },
   "outputs": [],
   "source": [
    "# folder_path = \"/content/drive/MyDrive/njee/DataFiles\""
   ]
  },
  {
   "cell_type": "code",
   "execution_count": 8,
   "metadata": {},
   "outputs": [],
   "source": [
    "folder_path = \"flow_cytometry_data\""
   ]
  },
  {
   "cell_type": "code",
   "execution_count": 9,
   "metadata": {
    "colab": {
     "base_uri": "https://localhost:8080/"
    },
    "executionInfo": {
     "elapsed": 911,
     "status": "ok",
     "timestamp": 1687502732368,
     "user": {
      "displayName": "­노요한 / 학생 / 통계학과",
      "userId": "02288804916744013521"
     },
     "user_tz": -540
    },
    "id": "G0pDR_6aSvla",
    "outputId": "fc93c567-1327-4c88-b6d7-6db27846a41b"
   },
   "outputs": [
    {
     "name": "stdout",
     "output_type": "stream",
     "text": [
      "(913, 11)\n",
      "(753, 11)\n",
      "(868, 11)\n",
      "(848, 11)\n",
      "(707, 11)\n",
      "(759, 11)\n",
      "(853, 11)\n",
      "(799, 11)\n",
      "(810, 11)\n",
      "(911, 11)\n",
      "(927, 11)\n",
      "(902, 11)\n",
      "(723, 11)\n",
      "(899, 11)\n"
     ]
    }
   ],
   "source": [
    "# read  data and discretize to 3 bins\n",
    "filepaths = [os.path.join(folder_path, f) for f in listdir(folder_path) if f.endswith('.xls')]\n",
    "bins=3\n",
    "df = []\n",
    "df_real = []\n",
    "for f in filepaths:\n",
    "    temp = pd.read_excel(f)\n",
    "    print(temp.shape)\n",
    "    temp_disc = np.zeros(temp.shape)\n",
    "    for d in range(temp_disc.shape[1]):\n",
    "        temp_disc[:, d], _ = discretize(temp.iloc[:, d], bins)\n",
    "    df.append(temp_disc)\n",
    "    df_real.append(temp)\n",
    "\n",
    "df_full = pd.DataFrame(np.vstack(df))"
   ]
  },
  {
   "cell_type": "code",
   "execution_count": 10,
   "metadata": {
    "id": "B6O7L187Svog"
   },
   "outputs": [],
   "source": [
    "# here we choose the same file that was used in\n",
    "#CCMI : Classifier based Conditional Mutual Information Estimation (Sudipto Mukherjee et al., 2019)\n",
    "df = pd.DataFrame(df[6])\n",
    "df_real = pd.DataFrame(df_real[6])\n",
    "df.columns = temp.columns"
   ]
  },
  {
   "cell_type": "code",
   "execution_count": 11,
   "metadata": {
    "id": "jDSkX6IYSvr9"
   },
   "outputs": [],
   "source": [
    "#exctract proteins names\n",
    "gene_to_index = {gene.lower(): i for i, gene in enumerate(df.columns)}\n",
    "#define graph\n",
    "graph_dict = {'praf': ['pmek'], 'pmek': ['p44/42'], 'plcg': ['pip2', 'pkc'], 'pip2': ['pkc'], 'pip3': ['pip2', 'plcg', 'pakts473'], 'p44/42': ['pakts473'], 'pakts473': ['pakts473'],'pka': ['pakts473', 'p44/42', 'pmek', 'praf', 'pjnk', 'p38'], 'pkc': ['praf', 'pjnk', 'p38', 'pmek'], 'p38': ['p38'], 'pjnk': ['pjnk']}"
   ]
  },
  {
   "cell_type": "code",
   "execution_count": 12,
   "metadata": {
    "id": "ZkVRn_crSv15"
   },
   "outputs": [],
   "source": [
    "graph = np.zeros([11, 11],  dtype = int)\n",
    "for g in graph_dict.keys():\n",
    "    for k in graph_dict[g]:\n",
    "        graph[gene_to_index[g], gene_to_index[k]] = 1\n",
    "\n",
    "np.fill_diagonal(graph, val=1)"
   ]
  },
  {
   "cell_type": "code",
   "execution_count": 13,
   "metadata": {
    "id": "PAvWAGeVU1yc"
   },
   "outputs": [],
   "source": [
    "dims = df.shape[1]\n",
    "batch_size = 64"
   ]
  },
  {
   "cell_type": "code",
   "execution_count": 14,
   "metadata": {
    "id": "Kk0fOeOhU11m"
   },
   "outputs": [],
   "source": [
    "# Define the basic fully connected model with number of losses equal to dims - the dimensions of Y\n",
    "class ModelBasicClassification(nn.Module):\n",
    "    def __init__(self, input_shape, class_size, dims):\n",
    "        super(ModelBasicClassification, self).__init__()\n",
    "        self.l1 = nn.Linear(input_shape, 50)\n",
    "        self.l2 = nn.Linear(50, 50)\n",
    "        self.outputs = nn.ModuleList([nn.Linear(50, class_size) for _ in range(dims)])\n",
    "\n",
    "    def forward(self, x):\n",
    "        x = nn.functional.relu(self.l1(x))\n",
    "        x = nn.functional.relu(self.l2(x))\n",
    "        outputs = [nn.functional.softmax(output(x), dim=1) for output in self.outputs]\n",
    "        return outputs"
   ]
  },
  {
   "cell_type": "code",
   "execution_count": 15,
   "metadata": {
    "id": "iEU7n8_PU14s"
   },
   "outputs": [],
   "source": [
    "def train_model(data, y_hot, bins, num_of_outputs, val_data=None):\n",
    "    dims = data.shape[1]\n",
    "    num_of_outputs = num_of_outputs\n",
    "    model = ModelBasicClassification(dims, bins, num_of_outputs)\n",
    "    opt = optim.Adam(model.parameters())\n",
    "    criterion = nn.CrossEntropyLoss()\n",
    "\n",
    "    data = torch.from_numpy(data).float()\n",
    "    y_hot = [torch.from_numpy(y).float() for y in y_hot]\n",
    "\n",
    "    for epoch in range(400):\n",
    "        opt.zero_grad()\n",
    "        outputs = model(data)\n",
    "        loss = sum([criterion(output, torch.argmax(y, dim=1)) for output, y in zip(outputs, y_hot)])\n",
    "        loss.backward()\n",
    "        opt.step()\n",
    "\n",
    "    model.eval()\n",
    "    if val_data is not None:\n",
    "        val_data = torch.from_numpy(val_data).float()\n",
    "        return [output.detach().numpy() for output in model(val_data)]\n",
    "\n",
    "    return [output.detach().numpy() for output in model(data)]"
   ]
  },
  {
   "cell_type": "code",
   "execution_count": 16,
   "metadata": {
    "colab": {
     "base_uri": "https://localhost:8080/"
    },
    "executionInfo": {
     "elapsed": 94237,
     "status": "ok",
     "timestamp": 1687502827040,
     "user": {
      "displayName": "­노요한 / 학생 / 통계학과",
      "userId": "02288804916744013521"
     },
     "user_tz": -540
    },
    "id": "UyxLmFKPU19a",
    "outputId": "69c35881-af5f-48fc-9d15-4f65f49c28e6"
   },
   "outputs": [],
   "source": [
    "# First estimate the CMI of non-ci triplets\n",
    "non_ci = []\n",
    "index_lst_non = []\n",
    "\n",
    "y_hot = []\n",
    "for i in range(dims):\n",
    "    y_hot.append(pd.get_dummies(df.iloc[:, i]).values)\n",
    "\n",
    "for index in range(60):\n",
    "    # print(index)\n",
    "    ci = False\n",
    "    rand_idx = np.random.randint(0, 10, 1)[0]\n",
    "    index_lst_non.append(rand_idx)\n",
    "\n",
    "    z_idxs = find_blanket(graph, rand_idx)\n",
    "    x_len = np.random.randint(3, 11)\n",
    "\n",
    "    x_idxs = generate_sample(z_idxs, df.shape[1], ci, x_len, rand_idx)\n",
    "    if not ci:\n",
    "        x_len = np.random.randint(5, 7)\n",
    "        z_idxs = generate_sample(x_idxs, df.shape[1], True, x_len, rand_idx)\n",
    "\n",
    "    X = np.array(df.iloc[:, x_idxs])\n",
    "    Z = np.array(df.iloc[:, z_idxs])\n",
    "    # Y = y_hot[rand_idx]\n",
    "    # Y = np.array(y_hot[rand_idx])\n",
    "    Y = [y_hot[rand_idx]]\n",
    "    # print('x_', x_idxs)\n",
    "    # print('z_', z_idxs)\n",
    "    # print('rand', rand_idx)\n",
    "    X_Z = np.hstack([X, Z])\n",
    "    # pred_model_1_all = train_model(X_Z, Y, bins, 1)\n",
    "    # pred_model_1_z = train_model(Z, Y, bins, 1)\n",
    "\n",
    "    # pred_model_1_all = train_model(X_Z, Y, bins, Y.shape[1])\n",
    "    # pred_model_1_all = train_model(X_Z, Y, bins, len(Y[0]))\n",
    "    # pred_model_1_z = train_model(Z, Y, bins, Y.shape[1])\n",
    "    # print(X)\n",
    "    pred_model_1_all = train_model(X_Z, Y, bins, len(Y[0][0]))  # Use len(Y[0]) to get the number of outputs\n",
    "    pred_model_1_z = train_model(Z, Y, bins, len(Y[0]))  # Use len(Y[0]) for consistency\n",
    "    kl_list = []\n",
    "    for i, j in zip(pred_model_1_all, pred_model_1_z):\n",
    "        kl_list.append(kl_calc_one_dim(i, j))\n",
    "    non_ci.append(np.mean(kl_list))\n",
    "\n",
    "non_ci_df = pd.concat([pd.DataFrame(index_lst_non), pd.DataFrame(non_ci)], axis=1)\n",
    "non_ci_df.columns = ['index', 'mi']"
   ]
  },
  {
   "cell_type": "code",
   "execution_count": 17,
   "metadata": {
    "colab": {
     "base_uri": "https://localhost:8080/"
    },
    "executionInfo": {
     "elapsed": 86313,
     "status": "ok",
     "timestamp": 1687502913339,
     "user": {
      "displayName": "­노요한 / 학생 / 통계학과",
      "userId": "02288804916744013521"
     },
     "user_tz": -540
    },
    "id": "10IswRugU2A_",
    "outputId": "b5f11165-089d-429d-d7ee-f3914b6819ce"
   },
   "outputs": [],
   "source": [
    "#estimate cmi of ci triplets\n",
    "ci_lst = []\n",
    "index_lst = []\n",
    "z_idx_lst = []\n",
    "x_idx_lst = []\n",
    "for index in range(60):\n",
    "    # print(index)\n",
    "    ci = True\n",
    "    rand_idx = np.random.randint(0, 10, 1)[0]\n",
    "    index_lst.append(rand_idx)\n",
    "\n",
    "    z_idxs = find_blanket(graph, rand_idx)\n",
    "    x_len = np.random.randint(3, 11)\n",
    "    x_idxs = generate_sample(z_idxs, df.shape[1], ci, x_len, rand_idx)\n",
    "    if not ci:\n",
    "        z_idxs = generate_sample(x_idxs, df.shape[1], True, 60, rand_idx)\n",
    "\n",
    "    z_idx_lst.append(z_idxs)\n",
    "    x_idx_lst.append(x_idxs)\n",
    "\n",
    "    X = np.array(df.iloc[:, x_idxs])\n",
    "    Z = np.array(df.iloc[:, z_idxs])\n",
    "    Y = [y_hot[rand_idx]]\n",
    "    X_Z = np.hstack([X, Z])\n",
    "\n",
    "    # print('x_', x_idxs)\n",
    "    # print('z_', z_idxs)\n",
    "    # print('rand', rand_idx)\n",
    "    # pred_model_1_all = train_model(X_Z, Y, bins, len(Y[0][0]))  # Use len(Y[0]) to get the number of outputs\n",
    "    # pred_model_1_z = train_model(Z, Y, bins, len(Y[0]))  # Use len(Y[0]) for consistency\n",
    "\n",
    "\n",
    "    pred_model_1_all = train_model(X_Z, Y, bins, len(Y[0][0]))\n",
    "    pred_model_1_z = train_model(Z, Y, bins, len(Y[0]))\n",
    "    kl_list = []\n",
    "    for i, j in zip (pred_model_1_all, pred_model_1_z):\n",
    "        kl_list.append(kl_calc_one_dim(i, j))\n",
    "    ci_lst.append(np.mean(kl_list))\n",
    "    # print(np.mean(kl_list))\n",
    "ci_df = pd.concat([pd.DataFrame(index_lst), pd.DataFrame(ci_lst)], axis=1)\n",
    "ci_df.columns = ['index', 'mi']"
   ]
  },
  {
   "cell_type": "code",
   "execution_count": 18,
   "metadata": {
    "id": "_59KVFY2XdzT"
   },
   "outputs": [],
   "source": [
    "ci_df['class'] = 0\n",
    "non_ci_df['class'] = 1\n",
    "join_df = pd.concat([ci_df, non_ci_df])\n",
    "join_df.sort_values(by='mi', inplace=True, ascending=False)"
   ]
  },
  {
   "cell_type": "code",
   "execution_count": 19,
   "metadata": {
    "colab": {
     "base_uri": "https://localhost:8080/",
     "height": 473
    },
    "executionInfo": {
     "elapsed": 665,
     "status": "ok",
     "timestamp": 1687502913988,
     "user": {
      "displayName": "­노요한 / 학생 / 통계학과",
      "userId": "02288804916744013521"
     },
     "user_tz": -540
    },
    "id": "m5BpDzOcXd2v",
    "outputId": "9ff8d4c6-57a9-4355-9848-3eb6eb85df5f"
   },
   "outputs": [
    {
     "data": {
      "image/png": "[encoded data removed]",
      "text/plain": [
       "<Figure size 640x480 with 1 Axes>"
      ]
     },
     "metadata": {},
     "output_type": "display_data"
    },
    {
     "data": {
      "text/plain": [
       "<Figure size 640x480 with 0 Axes>"
      ]
     },
     "metadata": {},
     "output_type": "display_data"
    }
   ],
   "source": [
    "fpr, tpr, _ = roc_curve(join_df['class'], join_df.mi)\n",
    "plt.plot(fpr, tpr, linewidth=5.0)\n",
    "plt.xlabel('False positive rate')\n",
    "plt.ylabel('True positive rate')\n",
    "plt.xlim(0, 1)\n",
    "plt.ylim(0, 1)\n",
    "plt.show()\n",
    "plt.savefig('CI.png')"
   ]
  }
 ],
 "metadata": {
  "colab": {
   "authorship_tag": "ABX9TyOK82eKPGAWpvm2MeHWfT5R",
   "provenance": []
  },
  "kernelspec": {
   "display_name": "Python 3 (ipykernel)",
   "language": "python",
   "name": "python3"
  },
  "language_info": {
   "codemirror_mode": {
    "name": "ipython",
    "version": 3
   },
   "file_extension": ".py",
   "mimetype": "text/x-python",
   "name": "python",
   "nbconvert_exporter": "python",
   "pygments_lexer": "ipython3",
   "version": "3.10.10"
  }
 },
 "nbformat": 4,
 "nbformat_minor": 4
}
